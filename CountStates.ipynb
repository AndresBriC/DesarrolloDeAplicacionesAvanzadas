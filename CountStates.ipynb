{
 "cells": [
  {
   "cell_type": "code",
   "execution_count": 1,
   "metadata": {},
   "outputs": [],
   "source": [
    "import numpy as np"
   ]
  },
  {
   "cell_type": "code",
   "execution_count": 2,
   "metadata": {},
   "outputs": [],
   "source": [
    "# Load a .npy file\n",
    "data = np.load('visited_states.npy')"
   ]
  },
  {
   "cell_type": "code",
   "execution_count": 11,
   "metadata": {},
   "outputs": [
    {
     "name": "stdout",
     "output_type": "stream",
     "text": [
      "[2 0 0 1 0 0 0 1 2 2 2 0 2 2 0 1 2 2 2 0 0 1 2 0 0 2 2 2 0 1 0 2 0 1 2 2 0\n",
      " 0 2 2 2 2 2 2 0 1 2 0 2 0 1 0 1 2 2 2 0 1 2 0 2 0 1 2 2 2 0 1 0 0 1 0 1 0\n",
      " 0 1 2 2 2 0 1 0 0 2 2 0 2 2 0 2 2 0 2 0 1 2 2 0 1 0 2 2 2 0 1 2 0 1 2 2 0\n",
      " 1 2 0 1 2 0 0 1 2 0 1 2 0 2 0 2 0 2 2 2 0 1 0 1 2 0 0 2 0 2 2 0 2 2 0 1 2\n",
      " 0 1 2 2 2 2 2 2 0 1 2 0 1 2 0 2 0 1 2 2 2 0 0 0 0 0 2 0 2 0 1 2 0 1 2 0 1\n",
      " 2 2 0 0 0 0 1 2 2 0 1 2 2 2 0 0 1 2 0 1 2 2 2 0 1 2 0 1 0 1 2 0 1 0 1 2 2\n",
      " 2 2 2 2 2 2 2 0 1 2 0 1 2 2 0 1 0 0 1 2 2 2 2 2 2 2 2 0 1 2 2 2 0 1 2 0 1\n",
      " 2 2 2 0 1 0 1 0 2 0 1 0 0 1 0 1 2 2 0 1 2 2 0 0 1 2 2 2 2 2 2 2 0 1 2 0 2\n",
      " 0 1 2 0 1 2 2 2 2 2 0 1 2 0 0 0 1 2 0 1 2 0 1 2 0 1 0 0 1 2 2 0 2 0 1 2 2\n",
      " 0 1 2 0 1 2 0 1 2 2 0 1 2 0 1 2 2 0 0 1 0 0 1 0 1 2 0 1 0 1 2 2 2 0 2 2 2\n",
      " 2 2 2 2 2 0 1 2 2 2 0 1 2 2 2 0 2 2 0 1 2 0 1 0 1 2 2 0 1 0 1 2 0 1 2 2 2\n",
      " 0 0 2 0 1 2 2 2 2 0 1 0 1 0 1 2 2 0 0 1 0 1 0 1 0 0 1 2 2 2 0 0 1 0 1 2 2\n",
      " 2 2 2 2 2 2 2 0 1 2 0 1 0 1 2 2 2 2 2 0 1 2 2 0 0 1 2 0 1 2 0 1 2 0 2 2 0\n",
      " 2 2 2 0 1 2 0 2 0 1 0 1 2 2 0 0 1 0 2 0 2 2 0 0 1 0 1 0 1 2 2 0 0 2 0 2 0\n",
      " 1 2 0 0 1 0 1 2 0 1 0 1 2 2 0 0 0 1 2 0 0 1 2 2 0 0 2 2 2 0 1 0 0 1 2 0 1\n",
      " 2 2 2 2 2 2 2 0 1 2 2 2 0 1 2 0 0 1 2 2 2 2 0 2 2 2 0 0 2 0 0 1 2 2 2 2 0\n",
      " 1 2 2 0 1 2 0 0 2 2 0 2 2 0 0 2 2 0 1 2 2 0 1 2 0 1 0 1 0 1 2 0 0 1 2 0 1\n",
      " 2 0 0 0 2 2 0 0 1 2 2 0 0 1 2 2 2 2 2 2 2 0 1 2 2 2 2 2 0 1 2 0 0 1 2 0 2\n",
      " 2 0 1 2 0 0 1 2 2 2 2 2 2 2 0 1 2 2 0 0 1 0 1 2 0 1 2 2 2 0 1 2 0 2 0 1 0\n",
      " 1 0 1 2 2 2 0 1 2 0 1 2 0 1 2 2 0 0 2 0 0 1 2 0 1 2 0 1 2 0 1 2 2 0 1 2 0\n",
      " 0 1 0 2 2 2 0 1 0 1 2 0 2 0 1 2 0 2 2 2 0 1 0 2 0 0 0 1 2 2 2 2 0 0 0 1 2\n",
      " 2 0 1 0 1 2 2 2 2 2 0 0 1 2 0 1 0 1 0 1 0 1 2 0 0 1 2 0 1 0 2 0 2 0 1 2 0\n",
      " 0 1 0 1 0 0 1 2 2 2 2 2 2 2 2 2 2 2 2 0 1 2 0 1 2 0 1 2 2 0 2 2 0 1 2 2 2\n",
      " 0 1 2 0 1 0 1 2 0 2 2 2 0 0 0 1 2 2 0 2 2 2 2 0 1 0 1 2 0 0 1 2 2 2 0 1 0\n",
      " 1 2 2 2 2 2 2 0 1 0 0 1 2 2 2 0 0 1 2 2 0 1 2 0 0 0 0 0 1 2 2 0 2 2 2 0 0\n",
      " 2 2 2 2 2 0 2 2 0 0 1 2 0 0 0 1 2 0 1 2 0 1 2 2 2 2 0 2 2 0 1 2 2 2 0 1 2\n",
      " 0 1 2 0 1 0 1 0 1 2 2 2 2 0 1 2 2 2 2 2 0 1 2 2 2 0 1 2 0 1 2 0 1 0 1 0 2\n",
      " 0]\n"
     ]
    }
   ],
   "source": [
    "# Print the data\n",
    "print(data)"
   ]
  },
  {
   "cell_type": "code",
   "execution_count": 7,
   "metadata": {},
   "outputs": [
    {
     "name": "stdout",
     "output_type": "stream",
     "text": [
      "{0: 345, 1: 209, 2: 446}\n"
     ]
    }
   ],
   "source": [
    "# Count the repetition of each number in the data array\n",
    "unique, counts = np.unique(data, return_counts=True)\n",
    "\n",
    "# Print the result\n",
    "print(dict(zip(unique, counts)))"
   ]
  },
  {
   "cell_type": "code",
   "execution_count": 25,
   "metadata": {},
   "outputs": [
    {
     "name": "stdout",
     "output_type": "stream",
     "text": [
      "Transition matrix:\n",
      "   0    1    2\n",
      "0 [ 78. 209.  57.]\n",
      "1 [ 59.   0. 150.]\n",
      "2 [208.   0. 238.]\n",
      "Normalized transition matrix:\n",
      "   0    1    2\n",
      "0 [0.22674419 0.60755814 0.16569767]\n",
      "1 [0.28229665 0.         0.71770335]\n",
      "2 [0.46636771 0.         0.53363229]\n"
     ]
    }
   ],
   "source": [
    "# Calculate the transition matrix\n",
    "transition_matrix = np.zeros((3, 3))\n",
    "for i in range(len(data) - 1):\n",
    "    current_state = data[i]\n",
    "    next_state = data[i + 1]\n",
    "    transition_matrix[current_state, next_state] += 1\n",
    "\n",
    "# Normalize the transition matrix to get probabilities\n",
    "normalized_transition_matrix = transition_matrix / np.sum(transition_matrix, axis=1, keepdims=True)\n",
    "\n",
    "# Print the result\n",
    "print('Transition matrix:')\n",
    "print('   0    1    2')\n",
    "for i in range(3):\n",
    "    print(i, transition_matrix[i])\n",
    "\n",
    "# Print the normalized transition matrix\n",
    "print('Normalized transition matrix:')\n",
    "print('   0    1    2')\n",
    "for i in range(3):\n",
    "    print(i, normalized_transition_matrix[i])"
   ]
  },
  {
   "cell_type": "code",
   "execution_count": 38,
   "metadata": {},
   "outputs": [
    {
     "name": "stdout",
     "output_type": "stream",
     "text": [
      "[0.34508503 0.20965922 0.44525576]\n"
     ]
    }
   ],
   "source": [
    "pi = np.array([0, 0, 1])\n",
    "\n",
    "for i in range(100):\n",
    "    pi=np.matmul(pi, normalized_transition_matrix)\n",
    "\n",
    "print(pi)"
   ]
  }
 ],
 "metadata": {
  "kernelspec": {
   "display_name": "DataSciGeneral",
   "language": "python",
   "name": "python3"
  },
  "language_info": {
   "codemirror_mode": {
    "name": "ipython",
    "version": 3
   },
   "file_extension": ".py",
   "mimetype": "text/x-python",
   "name": "python",
   "nbconvert_exporter": "python",
   "pygments_lexer": "ipython3",
   "version": "3.10.14"
  }
 },
 "nbformat": 4,
 "nbformat_minor": 2
}
