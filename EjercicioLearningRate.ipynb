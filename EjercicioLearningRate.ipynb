{
 "cells": [
  {
   "cell_type": "code",
   "execution_count": 1,
   "metadata": {},
   "outputs": [],
   "source": [
    "import matplotlib.pyplot as plt\n",
    "import numpy as np\n",
    "import random\n",
    "import math"
   ]
  },
  {
   "cell_type": "markdown",
   "metadata": {},
   "source": [
    "# Machine 1\n",
    "**Probability of getting $10:** 40%\n",
    "\n",
    "**Probability of getting $0:** 60%"
   ]
  },
  {
   "cell_type": "code",
   "execution_count": 2,
   "metadata": {},
   "outputs": [],
   "source": [
    "outcomes = [10, 0]\n",
    "probabilities = [0.4, 0.6]\n",
    "\n",
    "# Simulates a single roll of a die with 40% chance of getting a 10 and 60% chance of getting a 0\n",
    "def simulateRoll(outcomes, probabilities):\n",
    "    result = random.choices(outcomes, weights=probabilities, k=1)[0]\n",
    "    return result\n",
    "\n",
    "# Adds the result of each roll to an array and returns the array\n",
    "def simulateGame(numRolls):\n",
    "    results = []\n",
    "    for i in range(numRolls):\n",
    "        results.append(simulateRoll(outcomes, probabilities))\n",
    "    return results\n",
    "\n",
    "# Plot the averages as the game progresses\n",
    "def plotAverages(results):\n",
    "    averages = []\n",
    "    for i in range(len(results)):\n",
    "        averages.append(np.mean(results[:i+1]))\n",
    "    plt.plot(averages)\n",
    "    plt.show()"
   ]
  },
  {
   "cell_type": "code",
   "execution_count": 3,
   "metadata": {},
   "outputs": [
    {
     "name": "stdout",
     "output_type": "stream",
     "text": [
      "Average:  4.018\n"
     ]
    },
    {
     "data": {
      "image/png": "[encoded data removed]",
      "text/plain": [
       "<Figure size 640x480 with 1 Axes>"
      ]
     },
     "metadata": {},
     "output_type": "display_data"
    }
   ],
   "source": [
    "# Run the simulation and plot the averages\n",
    "games = 5000\n",
    "results = simulateGame(games)\n",
    "print(\"Average: \", np.mean(results))\n",
    "\n",
    "plotAverages(results)"
   ]
  },
  {
   "cell_type": "markdown",
   "metadata": {},
   "source": [
    "# Calculating the expected value as we go\n",
    "\n",
    "We want to update our expected value as we start getting results, not after a lot of tries"
   ]
  },
  {
   "cell_type": "markdown",
   "metadata": {},
   "source": [
    "Since we don't know where where it should converge, we should notice when it stops \"oscilating\". We could look at the previous delta moves \"a little\"."
   ]
  },
  {
   "cell_type": "code",
   "execution_count": 17,
   "metadata": {},
   "outputs": [
    {
     "name": "stdout",
     "output_type": "stream",
     "text": [
      "\n",
      "Convergence iteration:  3885\n",
      "Error:  0.0009996447823428234\n",
      "Expected Value:  3.8826203346203325\n",
      "\n",
      "Convergence iteration with learning rate  0.1 :  1000000\n",
      "Error:  0.5168646994205472\n",
      "Expected Value with learning rate  0.1 :  5.348217705215074\n",
      "\n",
      "Convergence iteration with learning rate  0.01 :  1000000\n",
      "Error:  0.04223329803185738\n",
      "Expected Value with learning rate  0.01 :  4.181096505153917\n",
      "\n",
      "Convergence iteration with learning rate  0.001 :  1000000\n",
      "Error:  0.003920967700034694\n",
      "Expected Value with learning rate  0.001 :  3.9170467323345672\n",
      "\n",
      "Convergence iteration with learning rate  0.002 :  1000000\n",
      "Error:  0.008269825292340549\n",
      "Expected Value with learning rate  0.002 :  4.12664282087802\n",
      "\n",
      "Convergence iteration with learning rate  0.005 :  1000000\n",
      "Error:  0.020393276492340462\n",
      "Expected Value with learning rate  0.005 :  4.058262021975771\n",
      "\n",
      "Convergence iteration with learning rate  0.007 :  1000000\n",
      "Error:  0.02872066472737167\n",
      "Expected Value with learning rate  0.007 :  4.0742314391828955\n",
      "\n",
      "Convergence iteration with learning rate  0.0001 :  502\n",
      "Error:  0.0009803859724208108\n",
      "Expected Value with learning rate  0.0001 :  0.19712066176418924\n"
     ]
    }
   ],
   "source": [
    "# Calculate the expected value of the game\n",
    "def calculateExpectedValue(currentIteration, previousExpectedValue):\n",
    "    learningRate = 1/currentIteration\n",
    "\n",
    "    expectedValue = previousExpectedValue + learningRate*(simulateRoll(outcomes, probabilities) - previousExpectedValue)\n",
    "\n",
    "    return expectedValue\n",
    "\n",
    "def calculateExpectedValueFixedLearningRate(learningRate, previousExpectedValue):\n",
    "    expectedValue = previousExpectedValue + learningRate*(simulateRoll(outcomes, probabilities) - previousExpectedValue)\n",
    "\n",
    "    return expectedValue\n",
    "\n",
    "# Simulate the game and calculate the expected value\n",
    "def simulateGameWithExpectedValue():\n",
    "    expectedValue = simulateRoll(outcomes, probabilities) # Our first expected value\n",
    "\n",
    "    # Aquí hay que checar cuándo empieza a converger con un while y el error sea menor a ¿0.01? jaja lo saqué de la nada\n",
    "\n",
    "    currentIteration = 1\n",
    "    error = 1\n",
    "    startingIteration = 500\n",
    "\n",
    "    for i in range(startingIteration):\n",
    "        expectedValue = calculateExpectedValue(currentIteration, expectedValue)\n",
    "        currentIteration += 1\n",
    "\n",
    "    while abs(error) >= 0.001:\n",
    "        currentIteration += 1\n",
    "        previousExpectedValue = expectedValue\n",
    "        expectedValue = calculateExpectedValue(currentIteration, expectedValue)\n",
    "        error = abs(expectedValue - previousExpectedValue)\n",
    "\n",
    "    print(\"\\nConvergence iteration: \", currentIteration)\n",
    "    print(\"Error: \", error)\n",
    "\n",
    "    return expectedValue\n",
    "\n",
    "def simulateGameWithExpectedValueFixedLearningRate(learningRate):\n",
    "    expectedValue = simulateRoll(outcomes, probabilities) # Our first expected value\n",
    "\n",
    "    # Aquí hay que checar cuándo empieza a converger con un while y el error sea menor a ¿0.01? jaja lo saqué de la nada\n",
    "\n",
    "    currentIteration = 1\n",
    "    error = 1\n",
    "    startingIteration = 500\n",
    "\n",
    "    for i in range(startingIteration):\n",
    "        expectedValue = calculateExpectedValueFixedLearningRate(learningRate, expectedValue)\n",
    "        currentIteration += 1\n",
    "\n",
    "    while currentIteration < 1000000 and error >= 0.001:\n",
    "        currentIteration += 1\n",
    "        previousExpectedValue = expectedValue\n",
    "        expectedValue = calculateExpectedValueFixedLearningRate(learningRate, expectedValue)\n",
    "        error = abs(expectedValue - previousExpectedValue)\n",
    "\n",
    "\n",
    "    print(\"\\nConvergence iteration with learning rate \", learningRate, \": \", currentIteration)\n",
    "    print(\"Error: \", error)\n",
    "\n",
    "    return expectedValue\n",
    "\n",
    "# Run the simulation and print the expected value\n",
    "expectedValue = simulateGameWithExpectedValue()\n",
    "print(\"Expected Value: \", expectedValue)\n",
    "\n",
    "# Run the simulation with a fixed learning rate of 0.1, 0.01 and 0.001\n",
    "for learningRate in [0.1, 0.01, 0.001, 0.002, 0.005, 0.007, 0.0001]:\n",
    "    expectedValue = simulateGameWithExpectedValueFixedLearningRate(learningRate)\n",
    "    print(\"Expected Value with learning rate \", learningRate, \": \", expectedValue)\n",
    "\n"
   ]
  }
 ],
 "metadata": {
  "kernelspec": {
   "display_name": "DataSciGeneral",
   "language": "python",
   "name": "python3"
  },
  "language_info": {
   "codemirror_mode": {
    "name": "ipython",
    "version": 3
   },
   "file_extension": ".py",
   "mimetype": "text/x-python",
   "name": "python",
   "nbconvert_exporter": "python",
   "pygments_lexer": "ipython3",
   "version": "3.10.4"
  }
 },
 "nbformat": 4,
 "nbformat_minor": 2
}
